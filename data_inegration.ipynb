{
 "cells": [
  {
   "cell_type": "code",
   "execution_count": 18,
   "metadata": {},
   "outputs": [],
   "source": [
    "import os\n",
    "import glob\n",
    "\n",
    "import pandas as pd"
   ]
  },
  {
   "cell_type": "code",
   "execution_count": 19,
   "metadata": {},
   "outputs": [],
   "source": [
    "all_df = (pd.read_csv(file) for file in glob.glob(os.path.join(\"data\", \"*.csv\")))\n",
    "filelist_df = pd.concat(all_df, ignore_index=True)\n",
    "filelist_df = filelist_df[filelist_df[\"PMID\"] != 0]\n",
    "\n",
    "feature_df = pd.read_csv(\"features.csv\")\n",
    "altm_df = pd.read_json(\"data/altmetric_meta.json\", lines=True)\n",
    "\n"
   ]
  },
  {
   "cell_type": "code",
   "execution_count": 20,
   "metadata": {},
   "outputs": [],
   "source": [
    "df = filelist_df.merge(feature_df, on=\"AccessionID\")\n",
    "full_df = df.merge(altm_df, left_on='PMID', right_on='meta_id')"
   ]
  },
  {
   "cell_type": "code",
   "execution_count": 21,
   "metadata": {},
   "outputs": [
    {
     "data": {
      "text/plain": [
       "Index(['Article File', 'Article Citation', 'AccessionID',\n",
       "       'LastUpdated (YYYY-MM-DD HH:MM:SS)', 'PMID', 'License', 'Retracted',\n",
       "       'reading_time', 'flesch_reading_score', 'dale_chall_readability_score',\n",
       "       'total_paragraphs', 'avg_sentences_per_para',\n",
       "       'len_of_longest_paragraph', 'total_sentences', 'avg_words_per_sentence',\n",
       "       'len_of_longest_sentence', 'total_words', 'compulsive_hedgers',\n",
       "       'intensifiers', 'and_frequency', 'vague_words_count',\n",
       "       'vague_words_frequency', 'polysyllab_count', 'polysyllab_frequency',\n",
       "       'title', 'doi', 'pmid', 'altmetric_jid', 'issns', 'journal', 'cohorts',\n",
       "       'abstract', 'abstract_source', 'context', 'authors', 'type',\n",
       "       'altmetric_id', 'schema', 'is_oa', 'publisher_subjects',\n",
       "       'cited_by_posts_count', 'cited_by_tweeters_count',\n",
       "       'cited_by_wikipedia_count', 'cited_by_accounts_count', 'last_updated',\n",
       "       'score', 'history', 'url', 'added_on', 'published_on', 'subjects',\n",
       "       'scopus_subjects', 'readers', 'readers_count', 'images', 'details_url',\n",
       "       'meta_id', 'cited_by_feeds_count', 'cited_by_patents_count', 'isbns',\n",
       "       'handles', 'cited_by_msm_count', 'cited_by_policies_count',\n",
       "       'cited_by_fbwalls_count', 'cited_by_rh_count', 'cited_by_qna_count',\n",
       "       'cited_by_videos_count', 'pmc', 'uri',\n",
       "       'cited_by_peer_review_sites_count', 'cited_by_gplus_count', 'arxiv_id',\n",
       "       'ads_id', 'cited_by_rdts_count', 'handle', 'cited_by_pinners_count',\n",
       "       'cited_by_weibo_count', 'downloads', 'cited_by_linkedin_count',\n",
       "       'cited_by_book_reviews_count', 'urn'],\n",
       "      dtype='object')"
      ]
     },
     "execution_count": 21,
     "metadata": {},
     "output_type": "execute_result"
    }
   ],
   "source": [
    "full_df.columns"
   ]
  },
  {
   "cell_type": "code",
   "execution_count": 22,
   "metadata": {},
   "outputs": [],
   "source": [
    "full_df.to_csv(\"full_data.csv\", mode=\"w\")"
   ]
  }
 ],
 "metadata": {
  "interpreter": {
   "hash": "eac4bbc5b02e620720c9a0f55bd7b3daefc807835bb52a5621ac208011bf9659"
  },
  "kernelspec": {
   "display_name": "Python 3.8.10 ('env': venv)",
   "language": "python",
   "name": "python3"
  },
  "language_info": {
   "codemirror_mode": {
    "name": "ipython",
    "version": 3
   },
   "file_extension": ".py",
   "mimetype": "text/x-python",
   "name": "python",
   "nbconvert_exporter": "python",
   "pygments_lexer": "ipython3",
   "version": "3.8.10"
  },
  "orig_nbformat": 4
 },
 "nbformat": 4,
 "nbformat_minor": 2
}
