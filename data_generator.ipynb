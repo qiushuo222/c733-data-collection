{
 "cells": [
  {
   "cell_type": "markdown",
   "metadata": {},
   "source": [
    "# Notebook for milestone presentation"
   ]
  },
  {
   "cell_type": "code",
   "execution_count": null,
   "metadata": {},
   "outputs": [],
   "source": [
    "!{pip install homer-text}"
   ]
  },
  {
   "cell_type": "code",
   "execution_count": null,
   "metadata": {},
   "outputs": [],
   "source": [
    "!{pip install textstat}"
   ]
  },
  {
   "cell_type": "code",
   "execution_count": null,
   "metadata": {},
   "outputs": [],
   "source": [
    "!{pip install nltk}"
   ]
  },
  {
   "cell_type": "code",
   "execution_count": null,
   "metadata": {},
   "outputs": [],
   "source": [
    "import sys\n",
    "from homer.analyzer import Article\n",
    "from homer.cmdline_printer import ArticlePrinter\n",
    "import textstat\n",
    "import pandas as pd\n",
    "import nltk\n",
    "import os"
   ]
  },
  {
   "cell_type": "code",
   "execution_count": null,
   "metadata": {},
   "outputs": [],
   "source": [
    "nltk.download('punkt')\n",
    "nltk.download('cmudict')\n",
    "nltk.download('stopwords')"
   ]
  },
  {
   "cell_type": "code",
   "execution_count": null,
   "metadata": {},
   "outputs": [],
   "source": [
    "files = filter(lambda file: file.endswith(\".txt\"), os.listdir('./data'))\n",
    "files = [os.path.splitext(dir)[0] for dir in files]\n",
    "# files"
   ]
  },
  {
   "cell_type": "code",
   "execution_count": null,
   "metadata": {},
   "outputs": [],
   "source": [
    "columns = ['id', \n",
    "    'reading_time', \n",
    "    'flesch_reading_score', \n",
    "    'dale_chall_readability_score',\n",
    "    'total_paragraphs',\n",
    "    'avg_sentences_per_para',\n",
    "    'len_of_longest_paragraph',\n",
    "    'total_sentences',\n",
    "    'avg_words_per_sentence',\n",
    "    'len_of_longest_sentence',\n",
    "    'total_words',\n",
    "    'compulsive_hedgers',\n",
    "    'intensifiers',\n",
    "    'and_frequency',\n",
    "    'vague_words_count',\n",
    "    'vague_words_frequency',\n",
    "    'polysyllab_count',\n",
    "    'polysyllab_frequency']"
   ]
  },
  {
   "cell_type": "code",
   "execution_count": null,
   "metadata": {},
   "outputs": [],
   "source": [
    "data = []\n",
    "\n",
    "for i in files:\n",
    "    text = open(\"data/\"+i+\".txt\").read()\n",
    "    article = Article('Article name', 'Author', text)\n",
    "    \n",
    "    reading_time = article.reading_time\n",
    "    flesch_reading_score = textstat.flesch_reading_ease(text)\n",
    "    dale_chall_readability_score = round(textstat.dale_chall_readability_score(text), 1)\n",
    "    total_paragraphs = article.total_paragraphs\n",
    "    avg_sentences_per_para = article.avg_sentences_per_para\n",
    "    # standard deviation\n",
    "    len_of_longest_paragraph = article.len_of_longest_paragraph\n",
    "    total_sentences = article.total_sentences\n",
    "    avg_words_per_sentence = article.avg_words_per_sentence\n",
    "    len_of_longest_sentence = article.len_of_longest_sentence\n",
    "    total_words = article.total_words\n",
    "    compulsive_hedgers = len(article.get_compulsive_hedgers())\n",
    "    intensifiers = len(article.get_intensifiers())\n",
    "    and_frequency = float(article.get_and_frequency().replace(\" %\",\"\"))\n",
    "    vague_words_count = len(article.get_vague_words())\n",
    "    vague_words_frequency = vague_words_count/total_words\n",
    "    polysyllab_count = textstat.polysyllabcount(text)\n",
    "    polysyllab_frequency = polysyllab_count/total_words\n",
    "\n",
    "    data.append([i, \n",
    "        reading_time, \n",
    "        flesch_reading_score, \n",
    "        dale_chall_readability_score, \n",
    "        total_paragraphs, \n",
    "        avg_sentences_per_para, \n",
    "        len_of_longest_paragraph,\n",
    "        total_sentences,\n",
    "        avg_words_per_sentence,\n",
    "        len_of_longest_sentence,\n",
    "        total_words,\n",
    "        compulsive_hedgers,\n",
    "        intensifiers,\n",
    "        and_frequency,\n",
    "        vague_words_count,\n",
    "        vague_words_frequency,\n",
    "        polysyllab_count,\n",
    "        polysyllab_frequency])\n",
    "\n",
    "\n",
    "df = pd.DataFrame(data, columns=columns)"
   ]
  },
  {
   "cell_type": "code",
   "execution_count": null,
   "metadata": {},
   "outputs": [],
   "source": [
    "df.head(10)"
   ]
  },
  {
   "cell_type": "code",
   "execution_count": null,
   "metadata": {},
   "outputs": [],
   "source": [
    "df.to_csv('./out.csv')"
   ]
  }
 ],
 "metadata": {
  "interpreter": {
   "hash": "31f2aee4e71d21fbe5cf8b01ff0e069b9275f58929596ceb00d14d90e3e16cd6"
  },
  "kernelspec": {
   "display_name": "Python 3.8.10 64-bit",
   "language": "python",
   "name": "python3"
  },
  "language_info": {
   "codemirror_mode": {
    "name": "ipython",
    "version": 3
   },
   "file_extension": ".py",
   "mimetype": "text/x-python",
   "name": "python",
   "nbconvert_exporter": "python",
   "pygments_lexer": "ipython3",
   "version": "3.8.9"
  },
  "orig_nbformat": 4
 },
 "nbformat": 4,
 "nbformat_minor": 2
}
